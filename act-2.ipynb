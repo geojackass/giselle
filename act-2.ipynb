{
 "cells": [
  {
   "cell_type": "code",
   "execution_count": 1,
   "id": "b13540af-a50f-4ca8-af30-55d1c6998556",
   "metadata": {
    "tags": []
   },
   "outputs": [],
   "source": [
    "import jageocoder"
   ]
  },
  {
   "cell_type": "code",
   "execution_count": 2,
   "id": "fe1a7f5e-3ee8-42ff-8b49-c0478c917f29",
   "metadata": {
    "tags": []
   },
   "outputs": [],
   "source": [
    "jageocoder.init()"
   ]
  },
  {
   "cell_type": "code",
   "execution_count": 3,
   "id": "940e897b-1810-4713-aa24-ddf87c5d9f11",
   "metadata": {
    "tags": []
   },
   "outputs": [
    {
     "data": {
      "text/plain": [
       "{'matched': '東京都港区三田2-15-',\n",
       " 'candidates': [{'id': 51020993,\n",
       "   'name': '15番',\n",
       "   'x': 139.74282836914062,\n",
       "   'y': 35.649147033691406,\n",
       "   'level': 7,\n",
       "   'priority': 3,\n",
       "   'note': '',\n",
       "   'fullname': ['東京都', '港区', '三田', '二丁目', '15番']}]}"
      ]
     },
     "execution_count": 3,
     "metadata": {},
     "output_type": "execute_result"
    }
   ],
   "source": [
    "jageocoder.search('東京都港区三田2-15-45')"
   ]
  },
  {
   "cell_type": "code",
   "execution_count": 5,
   "id": "73941268-5a3b-4fa0-9678-03e286f66162",
   "metadata": {
    "tags": []
   },
   "outputs": [],
   "source": [
    "results = jageocoder.searchNode(\"神奈川県相模原市中央区由野台3-1-1\")"
   ]
  },
  {
   "cell_type": "code",
   "execution_count": 6,
   "id": "82a406d8-9549-4a2e-82f6-53e4575ed5c9",
   "metadata": {
    "tags": []
   },
   "outputs": [
    {
     "data": {
      "text/plain": [
       "['神奈川県', '相模原市', '中央区', '由野台', '三丁目', '1番']"
      ]
     },
     "execution_count": 6,
     "metadata": {},
     "output_type": "execute_result"
    }
   ],
   "source": [
    "node = results[0].node\n",
    "node.get_fullname()"
   ]
  },
  {
   "cell_type": "code",
   "execution_count": 7,
   "id": "968afbff-669f-4e5b-8308-d51e24a5bed4",
   "metadata": {
    "tags": []
   },
   "outputs": [
    {
     "data": {
      "text/plain": [
       "['神奈川県', '相模原市', '中央区', '由野台', '三丁目']"
      ]
     },
     "execution_count": 7,
     "metadata": {},
     "output_type": "execute_result"
    }
   ],
   "source": [
    "parent = node.parent\n",
    "parent.get_fullname()"
   ]
  },
  {
   "cell_type": "code",
   "execution_count": 8,
   "id": "4d3d9abd-5b94-4b35-86db-2a922efe2061",
   "metadata": {
    "tags": []
   },
   "outputs": [
    {
     "data": {
      "text/plain": [
       "(139.39561462402344, 35.5577507019043)"
      ]
     },
     "execution_count": 8,
     "metadata": {},
     "output_type": "execute_result"
    }
   ],
   "source": [
    "parent.x, parent.y"
   ]
  },
  {
   "cell_type": "code",
   "execution_count": 9,
   "id": "ff035a98-d51b-47d3-9814-503f94fdb429",
   "metadata": {
    "tags": []
   },
   "outputs": [
    {
     "data": {
      "text/plain": [
       "{'matched': '六本木',\n",
       " 'candidates': [{'id': 51021068,\n",
       "   'name': '六本木',\n",
       "   'x': 139.7407989501953,\n",
       "   'y': 35.665061950683594,\n",
       "   'level': 5,\n",
       "   'priority': 2,\n",
       "   'note': '',\n",
       "   'fullname': ['東京都', '港区', '六本木']}]}"
      ]
     },
     "execution_count": 9,
     "metadata": {},
     "output_type": "execute_result"
    }
   ],
   "source": [
    "jageocoder.search(\"六本木駅\")"
   ]
  }
 ],
 "metadata": {
  "kernelspec": {
   "display_name": "Python 3 (ipykernel)",
   "language": "python",
   "name": "python3"
  },
  "language_info": {
   "codemirror_mode": {
    "name": "ipython",
    "version": 3
   },
   "file_extension": ".py",
   "mimetype": "text/x-python",
   "name": "python",
   "nbconvert_exporter": "python",
   "pygments_lexer": "ipython3",
   "version": "3.11.5"
  }
 },
 "nbformat": 4,
 "nbformat_minor": 5
}
